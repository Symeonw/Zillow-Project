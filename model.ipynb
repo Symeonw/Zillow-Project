{
 "cells": [
  {
   "cell_type": "code",
   "execution_count": 39,
   "metadata": {},
   "outputs": [],
   "source": [
    "import stats\n",
    "import split_scale\n",
    "import aquire\n",
    "import features\n",
    "from env import host, user, password\n",
    "import pandas as pd\n",
    "import numpy as np\n",
    "from scipy import stats\n",
    "from statsmodels.sandbox.regression.predstd import wls_prediction_std\n",
    "import matplotlib.pyplot as plt\n",
    "import seaborn as sns\n",
    "from sklearn.metrics import mean_squared_error\n",
    "from sklearn.model_selection import train_test_split\n",
    "from sklearn.metrics import mean_squared_error,r2_score,explained_variance_score\n",
    "from sklearn.preprocessing import MinMaxScaler, StandardScaler, QuantileTransformer, PowerTransformer\n",
    "from sklearn.linear_model import LinearRegression, LassoCV\n",
    "from math import sqrt\n",
    "import warnings\n",
    "warnings.filterwarnings(\"ignore\")\n",
    "from sklearn import preprocessing\n",
    "import matplotlib\n",
    "from sklearn.feature_selection import SelectKBest, f_regression, RFE\n",
    "from pydataset import data\n",
    "from statsmodels.formula.api import ols\n",
    "import re\n",
    "import multiprocessing as mp"
   ]
  },
  {
   "cell_type": "markdown",
   "metadata": {},
   "source": [
    "## -Aquire"
   ]
  },
  {
   "cell_type": "code",
   "execution_count": 21,
   "metadata": {},
   "outputs": [],
   "source": [
    "def get_df():\n",
    "    url = f'mysql+pymysql://{user}:{password}@{host}/zillow'\n",
    "    df = pd.read_sql('''select bathroomcnt, bedroomcnt, fireplacecnt, yearbuilt, taxvaluedollarcnt,calculatedfinishedsquarefeet from properties_2017 join propertylandusetype using (propertylandusetypeid) join predictions_2017 using (parcelid) where transactiondate between \"2017-05-01\" and \"2017-06-30\" and propertylandusedesc = \"Single Family Residential\";''', url)\n",
    "    return df"
   ]
  },
  {
   "cell_type": "markdown",
   "metadata": {},
   "source": [
    "## -Prepare "
   ]
  },
  {
   "cell_type": "code",
   "execution_count": 14,
   "metadata": {},
   "outputs": [],
   "source": [
    "def prepare_df():\n",
    "    df = get_df()\n",
    "    df = df.dropna()\n",
    "    df.columns = (\"bathroom_count\", \"bedroom_count\", \"fireplace_count\", \"year_built\", \"home_value\", \"square_feet\")\n",
    "    info = df.info()\n",
    "    head = df.head()\n",
    "    df[np.abs(df - df.mean()) <= (3*df.std())]\n",
    "    return df, info, head\n"
   ]
  },
  {
   "cell_type": "markdown",
   "metadata": {},
   "source": [
    "import split_scale_1\n",
    "import feature_selection\n",
    "import evaluation\n",
    "import model_2"
   ]
  },
  {
   "cell_type": "markdown",
   "metadata": {},
   "source": [
    "## - Split & Scale"
   ]
  },
  {
   "cell_type": "code",
   "execution_count": 35,
   "metadata": {},
   "outputs": [],
   "source": [
    "def split_my_data(df, train_size):\n",
    "    from sklearn.model_selection import train_test_split\n",
    "    train, test = train_test_split(df, train_size = train_size, random_state = 123)\n",
    "    return train, test\n",
    "\n",
    "\n",
    "def standard_scaler(train, test):\n",
    "    scaler=StandardScaler(copy=True,with_mean=True,with_std=True).fit(train)\n",
    "    train_scaled_data=scaler.transform(train)\n",
    "    test_scaled_data=scaler.transform(test)\n",
    "    train_scaled=pd.DataFrame(train_scaled_data,columns=train.columns).set_index([train.index])\n",
    "    test_scaled=pd.DataFrame(test_scaled_data,columns=test.columns).set_index([test.index])\n",
    "    return scaler, train_scaled, test_scaled\n",
    "\n",
    "def split_data(df):\n",
    "    train, test = split_my_data(df, .70)\n",
    "    scaler, train_scaled, test_scaled = standard_scaler(train, test)\n",
    "    X_train = train.drop(columns = [\"home_value\"])\n",
    "    X_test = test.drop(columns = [\"home_value\"])\n",
    "    y_train = train[[\"home_value\"]]\n",
    "    y_test = test[[\"home_value\"]]\n",
    "    X_train_scaled = train_scaled.drop(columns = [\"home_value\"])\n",
    "    X_test_scaled = test_scaled.drop(columns = [\"home_value\"])\n",
    "    y_train_scaled = train_scaled[[\"home_value\"]]\n",
    "    y_test_scaled = test_scaled[[\"home_value\"]]\n",
    "    return train, test, X_train, X_test, y_train, y_test, X_train_scaled, y_train_scaled, X_test_scaled, y_test_scaled"
   ]
  },
  {
   "cell_type": "markdown",
   "metadata": {},
   "source": [
    "## - Exploration"
   ]
  },
  {
   "cell_type": "code",
   "execution_count": 57,
   "metadata": {},
   "outputs": [
    {
     "name": "stdout",
     "output_type": "stream",
     "text": [
      "<class 'pandas.core.frame.DataFrame'>\n",
      "Int64Index: 2114 entries, 32 to 15030\n",
      "Data columns (total 6 columns):\n",
      "bathroom_count     2114 non-null float64\n",
      "bedroom_count      2114 non-null float64\n",
      "fireplace_count    2114 non-null float64\n",
      "year_built         2114 non-null float64\n",
      "home_value         2114 non-null float64\n",
      "square_feet        2114 non-null float64\n",
      "dtypes: float64(6)\n",
      "memory usage: 115.6 KB\n"
     ]
    }
   ],
   "source": [
    "df, info, head = prepare_df()\n",
    "train, test, X_train, X_test, y_train, y_test, X_train_scaled, y_train_scaled, X_test_scaled, y_test_scaled = split_data(df)\n",
    "#Null: no corr exists between bathroom_count and bedroom_count\n",
    "#alt: corr exists between bathroom_count and bedroom_count\n",
    "means = df.bathroom_count.mean()\n",
    "xbar = df.bedroom_count.mean()\n",
    "s = df.bedroom_count.std()\n",
    "n = df.bedroom_count.shape[0]\n",
    "degf = n - 1\n",
    "standard_error = s / sqrt(n)\n",
    "t = (xbar - means)/(s / sqrt(n))\n",
    "p = stats.t(degf).sf(t) * 2\n",
    "p,t\n",
    "\n",
    "#show corr between variables\n",
    "def corr_chart():\n",
    "    corr = df.corr()\n",
    "    fig = plt.figure()\n",
    "    ax = fig.add_subplot(111)\n",
    "    cax = ax.matshow(corr, cmap=\"bone_r\", vmin=-1, vmax=1)\n",
    "    fig.colorbar(cax)\n",
    "    ticks = np.arange(0, len(df.columns),1)\n",
    "    ax.set_xticks(ticks)\n",
    "    plt.xticks(rotation=90)\n",
    "    ax.set_yticks(ticks)\n",
    "    ax.set_xticklabels(df.columns)\n",
    "    ax.set_yticklabels(df.columns)\n",
    "    return plt.show\n",
    "#these are for later use\n",
    "def plot_regression(x,y):\n",
    "    res = sm.OLS(y, x).fit()\n",
    "    prstd, iv_l, iv_u = wls_prediction_std(res)\n",
    "\n",
    "    fig, ax = plt.subplots(figsize=(8,6))\n",
    "\n",
    "    ax.plot(x, y, 'o', label=\"data\")\n",
    "    #ax.plot(x, y, 'b-', label=\"True\")\n",
    "    ax.plot(x, res.fittedvalues, 'r--.', label=\"OLS\")\n",
    "    ax.plot(x, iv_u, 'g--',label='97.5% Confidence Level')\n",
    "    ax.plot(x, iv_l, 'b--',label='2.5% Confidence Level')\n",
    "    ax.legend(loc='best');\n",
    "    plt.show()\n",
    "    \n",
    "    \n",
    "    \n",
    "def plot_residuals(x, y):\n",
    "    return sns.residplot(x, y)\n",
    "\n",
    "\n",
    "#one of the strongest corr is bettwen bathroom_count and square_feet\n",
    "#all variables appear to be correlated to the dependent, though fireplace_count, bathroom_count and bedroom_count are the 3 highest (when compaired independently)\n",
    "#bathroom_count and home_value have a corr of .53, bathroom_count and square_feet have a corr of .85, and bedroom_count and square_feet share at .54 the 3 top highest corr's. \n",
    "#summary - bathroom_count, bedroom_count, and fireplace_count should be best predictors of home_value, though more research would be required to support this hypothesis. "
   ]
  },
  {
   "cell_type": "code",
   "execution_count": 80,
   "metadata": {},
   "outputs": [
    {
     "data": {
      "text/plain": [
       "<matplotlib.axes._subplots.AxesSubplot at 0x1a1bfbf6a0>"
      ]
     },
     "execution_count": 80,
     "metadata": {},
     "output_type": "execute_result"
    },
    {
     "data": {
      "image/png": "[encoded data removed]",
      "text/plain": [
       "<Figure size 432x288 with 1 Axes>"
      ]
     },
     "metadata": {
      "needs_background": "light"
     },
     "output_type": "display_data"
    }
   ],
   "source": [
    "sns.scatterplot(data = df.groupby('square_feet').mean().home_value)"
   ]
  },
  {
   "cell_type": "code",
   "execution_count": 81,
   "metadata": {},
   "outputs": [
    {
     "data": {
      "text/plain": [
       "<matplotlib.axes._subplots.AxesSubplot at 0x1a1ba45898>"
      ]
     },
     "execution_count": 81,
     "metadata": {},
     "output_type": "execute_result"
    },
    {
     "data": {
      "image/png": "[encoded data removed]",
      "text/plain": [
       "<Figure size 432x288 with 1 Axes>"
      ]
     },
     "metadata": {
      "needs_background": "light"
     },
     "output_type": "display_data"
    }
   ],
   "source": [
    "sns.scatterplot(data = df.groupby('fireplace_count').mean().home_value)"
   ]
  },
  {
   "cell_type": "code",
   "execution_count": 83,
   "metadata": {},
   "outputs": [
    {
     "data": {
      "text/plain": [
       "<matplotlib.axes._subplots.AxesSubplot at 0x1a1ce38cc0>"
      ]
     },
     "execution_count": 83,
     "metadata": {},
     "output_type": "execute_result"
    },
    {
     "data": {
      "image/png": "[encoded data removed]",
      "text/plain": [
       "<Figure size 432x288 with 1 Axes>"
      ]
     },
     "metadata": {
      "needs_background": "light"
     },
     "output_type": "display_data"
    }
   ],
   "source": [
    "sns.scatterplot(data = df.groupby('bedroom_count').mean().home_value)"
   ]
  },
  {
   "cell_type": "markdown",
   "metadata": {},
   "source": [
    "## -Feature Selection "
   ]
  },
  {
   "cell_type": "code",
   "execution_count": 37,
   "metadata": {},
   "outputs": [],
   "source": [
    "def optimal_number_of_features(X_train, y_train, X_test, y_test):\n",
    "    number_of_attributes = X_train.shape[1]\n",
    "    number_of_features_list=np.arange(1,number_of_attributes)\n",
    "    high_score=0\n",
    "    number_of_features=0           \n",
    "    score_list =[]\n",
    "    for n in range(len(number_of_features_list)):\n",
    "        model = LinearRegression()\n",
    "        rfe = RFE(model,number_of_features_list[n])\n",
    "        X_train_rfe = rfe.fit_transform(X_train,y_train)\n",
    "        X_test_rfe = rfe.transform(X_test)\n",
    "        model.fit(X_train_rfe,y_train)\n",
    "        score = model.score(X_test_rfe,y_test)\n",
    "        score_list.append(score)\n",
    "        if(score>high_score):\n",
    "            high_score = score\n",
    "            number_of_features = number_of_features_list[n]\n",
    "    return number_of_features, high_score\n",
    "\n",
    "def optimal_features(X_train, y_train, number_of_features):\n",
    "    cols = list(X_train.columns)\n",
    "    model = LinearRegression()\n",
    "    rfe = RFE(model, number_of_features)\n",
    "    X_rfe = rfe.fit_transform(X_train,y_train)  \n",
    "    model.fit(X_rfe,y_train)\n",
    "    temp = pd.Series(rfe.support_,index = cols)\n",
    "    selected_features_rfe = temp[temp==True].index\n",
    "    return selected_features_rfe\n",
    "\n",
    "def optimal_dataframe(X_train, X_test, selected_features_rfe):\n",
    "    X_train_df = X_train[selected_features_rfe]\n",
    "    X_test_df = X_test[selected_features_rfe]\n",
    "    return X_train_df, X_test_df\n",
    "\n",
    "\n",
    "\n",
    "def select_features():\n",
    "    n_features, high_score = optimal_number_of_features(X_train,y_train,X_test,y_test)\n",
    "    selected_features = optimal_features(X_train,y_train,n_features)\n",
    "    X_train_sf, X_test_sf = optimal_dataframe(X_train, X_test, selected_features)\n",
    "    return X_train_sf, X_test_sf"
   ]
  },
  {
   "cell_type": "markdown",
   "metadata": {},
   "source": [
    "## -Modeling and Evaluation"
   ]
  },
  {
   "cell_type": "code",
   "execution_count": 75,
   "metadata": {
    "scrolled": true
   },
   "outputs": [
    {
     "name": "stdout",
     "output_type": "stream",
     "text": [
      "<class 'pandas.core.frame.DataFrame'>\n",
      "Int64Index: 2114 entries, 32 to 15030\n",
      "Data columns (total 6 columns):\n",
      "bathroom_count     2114 non-null float64\n",
      "bedroom_count      2114 non-null float64\n",
      "fireplace_count    2114 non-null float64\n",
      "year_built         2114 non-null float64\n",
      "home_value         2114 non-null float64\n",
      "square_feet        2114 non-null float64\n",
      "dtypes: float64(6)\n",
      "memory usage: 115.6 KB\n",
      "180362963639.6578 266756823223053.9 424691.6100415192 0.0\n"
     ]
    }
   ],
   "source": [
    "df, info, head = prepare_df()\n",
    "train, test, X_train, X_test, y_train, y_test, X_train_scaled, y_train_scaled, X_test_scaled, y_test_scaled = split_data(df)\n",
    "lm = LinearRegression().fit(X_train, y_train)\n",
    "lm.intercept_\n",
    "lm.coef_\n",
    "y_pred_baseline = np.array([y_test.mean()])\n",
    "y_pred_baseline = np.repeat(y_pred_baseline, len(y_test))\n",
    "pd.Series(y_pred_baseline)\n",
    "y_unscaled=y_test\n",
    "y_lm=y_pred_lm\n",
    "y_baseline = y_pred_baseline\n",
    "pd.set_option('display.float_format', lambda x: '%.3f' % x)\n",
    "predict=pd.DataFrame({\"actual\":y_train.home_value}).reset_index(drop=True)\n",
    "y_pred_lm=lm.predict(X_test)\n",
    "len(y_pred_lm)\n",
    "predict[\"baseline\"] = y_train.mean()[0]\n",
    "y_baseline = predict[[\"baseline\"]]\n",
    "MSE_baseline = mean_squared_error(predict.actual, predict.baseline)\n",
    "SSE_baseline = MSE_baseline*len(predict.actual)\n",
    "RMSE_baseline = sqrt(MSE_baseline)\n",
    "r2_baseline = r2_score(predict.actual, predict.baseline)\n",
    "print(MSE_baseline,SSE_baseline,RMSE_baseline,r2_baseline)\n",
    "y_pred_raveled=y_pred_lm.ravel().reshape(635)\n",
    "y_pred_raveled = [int(x) for x in y_pred_raveled]\n",
    "y_test=np.array(y_test).ravel().reshape(635)\n",
    "pd.DataFrame({'predicted_values':y_pred_raveled,'real_values':y_test})\n",
    "x = df[[\"bathroom_count\", \"bedroom_count\", \"square_feet\"]]\n",
    "y= df['home_value']\n",
    "df_regress = pd.DataFrame({})\n",
    "df_regress[\"y\"] = y\n",
    "ols_model = ols('y ~ x', data=df_regress).fit()\n",
    "df_regress['yhat'] = ols_model.predict(x)\n",
    "df_regress['residual'] = df_regress['yhat'] - df_regress['y']\n",
    "df_regress.head()\n",
    "df_regress['residual^2'] = df_regress.residual ** 2\n",
    "SSE_2 = mean_squared_error(df_regress.y, df_regress.yhat)*len(df_regress)\n",
    "MSE_2 = mean_squared_error(df_regress.y, df_regress.yhat)\n",
    "RMSE_2 = sqrt(MSE_2)\n",
    "df_regress = pd.DataFrame(np.array(['SSE','MSE','RMSE']), columns=['metric'])\n",
    "df_regress['model_error'] = np.array([SSE_2, MSE_2, RMSE_2])\n",
    "df_regress['baseline_error'] = np.array([SSE_baseline, MSE_baseline, RMSE_baseline])\n",
    "df_regress['error_delta'] = df_regress.model_error - df_regress.baseline_error\n",
    "evs = explained_variance_score(y_test, y_pred_baseline)\n",
    "df_regress, evs\n",
    "accuracy_score = lm.score(X_test, y_test)\n",
    "pd.Series(y_pred_baseline)\n",
    "y_unscaled=y_test\n",
    "y_lm=y_pred_lm\n",
    "y_baseline = y_pred_baseline\n",
    "pd.set_option('display.float_format', lambda x: '%.3f' % x)"
   ]
  },
  {
   "cell_type": "code",
   "execution_count": 72,
   "metadata": {},
   "outputs": [
    {
     "data": {
      "text/html": [
       "<div>\n",
       "<style scoped>\n",
       "    .dataframe tbody tr th:only-of-type {\n",
       "        vertical-align: middle;\n",
       "    }\n",
       "\n",
       "    .dataframe tbody tr th {\n",
       "        vertical-align: top;\n",
       "    }\n",
       "\n",
       "    .dataframe thead th {\n",
       "        text-align: right;\n",
       "    }\n",
       "</style>\n",
       "<table border=\"1\" class=\"dataframe\">\n",
       "  <thead>\n",
       "    <tr style=\"text-align: right;\">\n",
       "      <th></th>\n",
       "      <th>bathroom_count</th>\n",
       "      <th>bedroom_count</th>\n",
       "      <th>fireplace_count</th>\n",
       "      <th>year_built</th>\n",
       "      <th>home_value</th>\n",
       "      <th>square_feet</th>\n",
       "    </tr>\n",
       "  </thead>\n",
       "  <tbody>\n",
       "    <tr>\n",
       "      <th>bathroom_count</th>\n",
       "      <td>1.000</td>\n",
       "      <td>0.519</td>\n",
       "      <td>0.439</td>\n",
       "      <td>0.505</td>\n",
       "      <td>0.525</td>\n",
       "      <td>0.825</td>\n",
       "    </tr>\n",
       "    <tr>\n",
       "      <th>bedroom_count</th>\n",
       "      <td>0.519</td>\n",
       "      <td>1.000</td>\n",
       "      <td>0.199</td>\n",
       "      <td>0.224</td>\n",
       "      <td>0.240</td>\n",
       "      <td>0.543</td>\n",
       "    </tr>\n",
       "    <tr>\n",
       "      <th>fireplace_count</th>\n",
       "      <td>0.439</td>\n",
       "      <td>0.199</td>\n",
       "      <td>1.000</td>\n",
       "      <td>0.277</td>\n",
       "      <td>0.390</td>\n",
       "      <td>0.575</td>\n",
       "    </tr>\n",
       "    <tr>\n",
       "      <th>year_built</th>\n",
       "      <td>0.505</td>\n",
       "      <td>0.224</td>\n",
       "      <td>0.277</td>\n",
       "      <td>1.000</td>\n",
       "      <td>0.317</td>\n",
       "      <td>0.492</td>\n",
       "    </tr>\n",
       "    <tr>\n",
       "      <th>home_value</th>\n",
       "      <td>0.525</td>\n",
       "      <td>0.240</td>\n",
       "      <td>0.390</td>\n",
       "      <td>0.317</td>\n",
       "      <td>1.000</td>\n",
       "      <td>0.611</td>\n",
       "    </tr>\n",
       "    <tr>\n",
       "      <th>square_feet</th>\n",
       "      <td>0.825</td>\n",
       "      <td>0.543</td>\n",
       "      <td>0.575</td>\n",
       "      <td>0.492</td>\n",
       "      <td>0.611</td>\n",
       "      <td>1.000</td>\n",
       "    </tr>\n",
       "  </tbody>\n",
       "</table>\n",
       "</div>"
      ],
      "text/plain": [
       "                 bathroom_count  bedroom_count  fireplace_count  year_built  \\\n",
       "bathroom_count            1.000          0.519            0.439       0.505   \n",
       "bedroom_count             0.519          1.000            0.199       0.224   \n",
       "fireplace_count           0.439          0.199            1.000       0.277   \n",
       "year_built                0.505          0.224            0.277       1.000   \n",
       "home_value                0.525          0.240            0.390       0.317   \n",
       "square_feet               0.825          0.543            0.575       0.492   \n",
       "\n",
       "                 home_value  square_feet  \n",
       "bathroom_count        0.525        0.825  \n",
       "bedroom_count         0.240        0.543  \n",
       "fireplace_count       0.390        0.575  \n",
       "year_built            0.317        0.492  \n",
       "home_value            1.000        0.611  \n",
       "square_feet           0.611        1.000  "
      ]
     },
     "execution_count": 72,
     "metadata": {},
     "output_type": "execute_result"
    }
   ],
   "source": [
    "df.corr()"
   ]
  },
  {
   "cell_type": "code",
   "execution_count": 74,
   "metadata": {},
   "outputs": [
    {
     "data": {
      "text/plain": [
       "<function matplotlib.pyplot.show(*args, **kw)>"
      ]
     },
     "execution_count": 74,
     "metadata": {},
     "output_type": "execute_result"
    },
    {
     "data": {
      "image/png": "[encoded data removed]",
      "text/plain": [
       "<Figure size 432x288 with 2 Axes>"
      ]
     },
     "metadata": {
      "needs_background": "light"
     },
     "output_type": "display_data"
    }
   ],
   "source": [
    "corr_chart()"
   ]
  },
  {
   "cell_type": "code",
   "execution_count": 92,
   "metadata": {},
   "outputs": [
    {
     "data": {
      "text/plain": [
       "(      actual          lm  lm_baseline\n",
       " 0 214514.000  297307.841   557226.616\n",
       " 1 680345.000  352429.435   557226.616\n",
       " 2 288645.000  483292.516   557226.616\n",
       " 3  74465.000  548623.406   557226.616\n",
       " 4 773269.000 1353314.796   557226.616, 0.4129589927368235)"
      ]
     },
     "execution_count": 92,
     "metadata": {},
     "output_type": "execute_result"
    }
   ],
   "source": [
    "df_origin_final = pd.DataFrame({'actual': y_unscaled,\n",
    "             'lm': y_lm.ravel(),\n",
    "             'lm_baseline':y_baseline.ravel()})\n",
    "df_origin_final.head()"
   ]
  },
  {
   "cell_type": "code",
   "execution_count": 102,
   "metadata": {},
   "outputs": [
    {
     "name": "stdout",
     "output_type": "stream",
     "text": [
      "r2 score for lm is:0.4129589927368235\n"
     ]
    }
   ],
   "source": [
    "print(f\"r2 score for lm is:{lm.score(X_test, y_test)}\")"
   ]
  },
  {
   "cell_type": "code",
   "execution_count": 97,
   "metadata": {},
   "outputs": [
    {
     "data": {
      "image/png": "[encoded data removed]",
      "text/plain": [
       "<Figure size 455.5x360 with 1 Axes>"
      ]
     },
     "metadata": {
      "needs_background": "light"
     },
     "output_type": "display_data"
    }
   ],
   "source": [
    "df_chart = pd.DataFrame({'actual': y_unscaled,'lm': y_lm.ravel(),'lm_baseline':y_baseline.ravel()}).melt(id_vars=['actual'],var_name='model',value_name='prediction').pipe((sns.lmplot,'data'),x='actual',y='prediction',hue='model',palette=\"Set1\")"
   ]
  },
  {
   "cell_type": "markdown",
   "metadata": {},
   "source": [
    "#### Above shows the corrolation tests, along with a plot of the lm model to the lm baseline. "
   ]
  },
  {
   "cell_type": "code",
   "execution_count": 99,
   "metadata": {},
   "outputs": [
    {
     "name": "stdout",
     "output_type": "stream",
     "text": [
      "The orignial r2 score for lm0.4129589927368235, given the new train and test variables the new r2 score is0.41395241286384926\n"
     ]
    }
   ],
   "source": [
    "X_train_2 = train[[\"bedroom_count\", \"fireplace_count\", \"square_feet\",\"bathroom_count\"]]\n",
    "X_test_2 = test[[\"bedroom_count\", \"fireplace_count\", \"square_feet\", \"bathroom_count\"]]\n",
    "lm2 = LinearRegression().fit(X_train_2, y_train)\n",
    "lms2 = lm2.score(X_test_2, y_test)\n",
    "lms = lm.score(X_test, y_test)\n",
    "print(f\"The orignial r2 score for lm{lms}, given the new train and test variables the new r2 score is{lms2}\")"
   ]
  },
  {
   "cell_type": "markdown",
   "metadata": {},
   "source": [
    "### - Above shows a lms2's score preforms lms1's score, and therefore is a better predictive model. "
   ]
  },
  {
   "cell_type": "code",
   "execution_count": 106,
   "metadata": {},
   "outputs": [
    {
     "data": {
      "text/plain": [
       "(  metric         model_error      baseline_error         error_delta\n",
       " 0    SSE 231043972220226.781 266756823223053.906 -35712851002827.125\n",
       " 1    MSE    109292323661.413    180362963639.658    -71070639978.245\n",
       " 2   RMSE          330593.895          424691.610          -94097.715,\n",
       "   metric         model_error      baseline_error         error_delta\n",
       " 0    SSE 231431367284093.156 266756823223053.906 -35325455938960.750\n",
       " 1    MSE    109475575820.290    180362963639.658    -70887387819.368\n",
       " 2   RMSE          330870.935          424691.610          -93820.675)"
      ]
     },
     "execution_count": 106,
     "metadata": {},
     "output_type": "execute_result"
    }
   ],
   "source": [
    "pd.set_option('display.float_format', lambda x: '%.3f' % x)\n",
    "predict=pd.DataFrame({\"actual\":y_train.home_value}).reset_index(drop=True)\n",
    "y_pred_lm_2=lm2.predict(X_test_2)\n",
    "y_lm_2=y_pred_lm_2\n",
    "predict[\"baseline\"] = y_train.mean()[0]\n",
    "y_pred_raveled_2=y_pred_lm_2.ravel().reshape(635)\n",
    "y_test=np.array(y_test).ravel().reshape(635)\n",
    "pd.DataFrame({'predicted_values':y_pred_raveled_2,'real_values':y_test})\n",
    "x = df[[\"bedroom_count\", \"fireplace_count\", \"square_feet\",\"bathroom_count\"]]\n",
    "y= df['home_value']\n",
    "df_regress_2 = pd.DataFrame({})\n",
    "df_regress_2[\"y\"] = y\n",
    "ols_model_2 = ols('y ~ x', data=df_regress_2).fit()\n",
    "df_regress_2['yhat'] = ols_model_2.predict(x)\n",
    "df_regress_2['residual'] = df_regress_2['yhat'] - df_regress_2['y']\n",
    "df_regress_2.head()\n",
    "df_regress_2['residual^2'] = df_regress_2.residual ** 2\n",
    "SSE_2 = mean_squared_error(df_regress_2.y, df_regress_2.yhat)*len(df_regress_2)\n",
    "MSE_2 = mean_squared_error(df_regress_2.y, df_regress_2.yhat)\n",
    "RMSE_2 = sqrt(MSE_2)\n",
    "df_regress_2 = pd.DataFrame(np.array(['SSE','MSE','RMSE']), columns=['metric'])\n",
    "df_regress_2['model_error'] = np.array([SSE_2, MSE_2, RMSE_2])\n",
    "df_regress_2['baseline_error'] = np.array([SSE_baseline, MSE_baseline, RMSE_baseline])\n",
    "df_regress_2['error_delta'] = df_regress_2.model_error - df_regress_2.baseline_error\n",
    "evs = explained_variance_score(y_test, y_pred_baseline)\n",
    "df_regress_2, df_regress"
   ]
  },
  {
   "cell_type": "code",
   "execution_count": 107,
   "metadata": {},
   "outputs": [
    {
     "data": {
      "image/png": "[encoded data removed]",
      "text/plain": [
       "<Figure size 455.5x360 with 1 Axes>"
      ]
     },
     "metadata": {
      "needs_background": "light"
     },
     "output_type": "display_data"
    }
   ],
   "source": [
    "df_chart = pd.DataFrame({'actual': y_unscaled,'lm2': y_lm_2.ravel(),'lm_baseline':y_baseline.ravel()}).melt(id_vars=['actual'],var_name='model',value_name='prediction').pipe((sns.lmplot,'data'),x='actual',y='prediction',hue='model',palette=\"Set1\")"
   ]
  },
  {
   "cell_type": "markdown",
   "metadata": {},
   "source": [
    "### -using the new variables we've been able to lower our error delta by 277.03 points, meaning we've increased the accuracy by about 1%"
   ]
  },
  {
   "cell_type": "code",
   "execution_count": 109,
   "metadata": {},
   "outputs": [
    {
     "data": {
      "text/plain": [
       "1.0029528672651309"
      ]
     },
     "execution_count": 109,
     "metadata": {},
     "output_type": "execute_result"
    }
   ],
   "source": []
  },
  {
   "cell_type": "code",
   "execution_count": null,
   "metadata": {},
   "outputs": [],
   "source": []
  }
 ],
 "metadata": {
  "kernelspec": {
   "display_name": "Python 3",
   "language": "python",
   "name": "python3"
  },
  "language_info": {
   "codemirror_mode": {
    "name": "ipython",
    "version": 3
   },
   "file_extension": ".py",
   "mimetype": "text/x-python",
   "name": "python",
   "nbconvert_exporter": "python",
   "pygments_lexer": "ipython3",
   "version": "3.7.3"
  }
 },
 "nbformat": 4,
 "nbformat_minor": 2
}
